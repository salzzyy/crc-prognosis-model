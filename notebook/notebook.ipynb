{
 "cells": [
  {
   "cell_type": "code",
   "execution_count": 1,
   "id": "2d05876f",
   "metadata": {},
   "outputs": [],
   "source": [
    "import pandas as pd \n",
    "import numpy as np\n",
    "import matplotlib.pyplot as plt \n",
    "import seaborn as sns "
   ]
  },
  {
   "cell_type": "code",
   "execution_count": 2,
   "id": "e816456a",
   "metadata": {},
   "outputs": [],
   "source": [
    "df = pd.read_csv(\"../artifacts/raw/data.csv\")"
   ]
  },
  {
   "cell_type": "code",
   "execution_count": 3,
   "id": "ef2042a7",
   "metadata": {},
   "outputs": [
    {
     "data": {
      "text/html": [
       "<div>\n",
       "<style scoped>\n",
       "    .dataframe tbody tr th:only-of-type {\n",
       "        vertical-align: middle;\n",
       "    }\n",
       "\n",
       "    .dataframe tbody tr th {\n",
       "        vertical-align: top;\n",
       "    }\n",
       "\n",
       "    .dataframe thead th {\n",
       "        text-align: right;\n",
       "    }\n",
       "</style>\n",
       "<table border=\"1\" class=\"dataframe\">\n",
       "  <thead>\n",
       "    <tr style=\"text-align: right;\">\n",
       "      <th></th>\n",
       "      <th>Patient_ID</th>\n",
       "      <th>Country</th>\n",
       "      <th>Age</th>\n",
       "      <th>Gender</th>\n",
       "      <th>Cancer_Stage</th>\n",
       "      <th>Tumor_Size_mm</th>\n",
       "      <th>Family_History</th>\n",
       "      <th>Smoking_History</th>\n",
       "      <th>Alcohol_Consumption</th>\n",
       "      <th>Obesity_BMI</th>\n",
       "      <th>...</th>\n",
       "      <th>Survival_5_years</th>\n",
       "      <th>Mortality</th>\n",
       "      <th>Healthcare_Costs</th>\n",
       "      <th>Incidence_Rate_per_100K</th>\n",
       "      <th>Mortality_Rate_per_100K</th>\n",
       "      <th>Urban_or_Rural</th>\n",
       "      <th>Economic_Classification</th>\n",
       "      <th>Healthcare_Access</th>\n",
       "      <th>Insurance_Status</th>\n",
       "      <th>Survival_Prediction</th>\n",
       "    </tr>\n",
       "  </thead>\n",
       "  <tbody>\n",
       "    <tr>\n",
       "      <th>0</th>\n",
       "      <td>1</td>\n",
       "      <td>UK</td>\n",
       "      <td>77</td>\n",
       "      <td>M</td>\n",
       "      <td>Localized</td>\n",
       "      <td>69</td>\n",
       "      <td>No</td>\n",
       "      <td>No</td>\n",
       "      <td>Yes</td>\n",
       "      <td>Overweight</td>\n",
       "      <td>...</td>\n",
       "      <td>Yes</td>\n",
       "      <td>No</td>\n",
       "      <td>54413</td>\n",
       "      <td>50</td>\n",
       "      <td>5</td>\n",
       "      <td>Urban</td>\n",
       "      <td>Developed</td>\n",
       "      <td>Moderate</td>\n",
       "      <td>Insured</td>\n",
       "      <td>Yes</td>\n",
       "    </tr>\n",
       "    <tr>\n",
       "      <th>1</th>\n",
       "      <td>2</td>\n",
       "      <td>UK</td>\n",
       "      <td>59</td>\n",
       "      <td>M</td>\n",
       "      <td>Localized</td>\n",
       "      <td>33</td>\n",
       "      <td>No</td>\n",
       "      <td>No</td>\n",
       "      <td>No</td>\n",
       "      <td>Overweight</td>\n",
       "      <td>...</td>\n",
       "      <td>Yes</td>\n",
       "      <td>No</td>\n",
       "      <td>76553</td>\n",
       "      <td>37</td>\n",
       "      <td>25</td>\n",
       "      <td>Urban</td>\n",
       "      <td>Developing</td>\n",
       "      <td>High</td>\n",
       "      <td>Uninsured</td>\n",
       "      <td>Yes</td>\n",
       "    </tr>\n",
       "    <tr>\n",
       "      <th>2</th>\n",
       "      <td>3</td>\n",
       "      <td>Japan</td>\n",
       "      <td>66</td>\n",
       "      <td>M</td>\n",
       "      <td>Regional</td>\n",
       "      <td>17</td>\n",
       "      <td>No</td>\n",
       "      <td>Yes</td>\n",
       "      <td>No</td>\n",
       "      <td>Normal</td>\n",
       "      <td>...</td>\n",
       "      <td>Yes</td>\n",
       "      <td>No</td>\n",
       "      <td>62805</td>\n",
       "      <td>54</td>\n",
       "      <td>27</td>\n",
       "      <td>Urban</td>\n",
       "      <td>Developed</td>\n",
       "      <td>Moderate</td>\n",
       "      <td>Uninsured</td>\n",
       "      <td>No</td>\n",
       "    </tr>\n",
       "    <tr>\n",
       "      <th>3</th>\n",
       "      <td>4</td>\n",
       "      <td>USA</td>\n",
       "      <td>83</td>\n",
       "      <td>M</td>\n",
       "      <td>Regional</td>\n",
       "      <td>14</td>\n",
       "      <td>No</td>\n",
       "      <td>No</td>\n",
       "      <td>No</td>\n",
       "      <td>Obese</td>\n",
       "      <td>...</td>\n",
       "      <td>Yes</td>\n",
       "      <td>No</td>\n",
       "      <td>89393</td>\n",
       "      <td>45</td>\n",
       "      <td>11</td>\n",
       "      <td>Urban</td>\n",
       "      <td>Developed</td>\n",
       "      <td>Moderate</td>\n",
       "      <td>Insured</td>\n",
       "      <td>Yes</td>\n",
       "    </tr>\n",
       "    <tr>\n",
       "      <th>4</th>\n",
       "      <td>5</td>\n",
       "      <td>France</td>\n",
       "      <td>66</td>\n",
       "      <td>M</td>\n",
       "      <td>Localized</td>\n",
       "      <td>34</td>\n",
       "      <td>No</td>\n",
       "      <td>Yes</td>\n",
       "      <td>No</td>\n",
       "      <td>Normal</td>\n",
       "      <td>...</td>\n",
       "      <td>Yes</td>\n",
       "      <td>No</td>\n",
       "      <td>66425</td>\n",
       "      <td>15</td>\n",
       "      <td>27</td>\n",
       "      <td>Urban</td>\n",
       "      <td>Developing</td>\n",
       "      <td>High</td>\n",
       "      <td>Insured</td>\n",
       "      <td>Yes</td>\n",
       "    </tr>\n",
       "  </tbody>\n",
       "</table>\n",
       "<p>5 rows × 28 columns</p>\n",
       "</div>"
      ],
      "text/plain": [
       "   Patient_ID Country  Age Gender Cancer_Stage  Tumor_Size_mm Family_History  \\\n",
       "0           1      UK   77      M    Localized             69             No   \n",
       "1           2      UK   59      M    Localized             33             No   \n",
       "2           3   Japan   66      M     Regional             17             No   \n",
       "3           4     USA   83      M     Regional             14             No   \n",
       "4           5  France   66      M    Localized             34             No   \n",
       "\n",
       "  Smoking_History Alcohol_Consumption Obesity_BMI  ... Survival_5_years  \\\n",
       "0              No                 Yes  Overweight  ...              Yes   \n",
       "1              No                  No  Overweight  ...              Yes   \n",
       "2             Yes                  No      Normal  ...              Yes   \n",
       "3              No                  No       Obese  ...              Yes   \n",
       "4             Yes                  No      Normal  ...              Yes   \n",
       "\n",
       "  Mortality Healthcare_Costs Incidence_Rate_per_100K Mortality_Rate_per_100K  \\\n",
       "0        No            54413                      50                       5   \n",
       "1        No            76553                      37                      25   \n",
       "2        No            62805                      54                      27   \n",
       "3        No            89393                      45                      11   \n",
       "4        No            66425                      15                      27   \n",
       "\n",
       "  Urban_or_Rural Economic_Classification Healthcare_Access Insurance_Status  \\\n",
       "0          Urban               Developed          Moderate          Insured   \n",
       "1          Urban              Developing              High        Uninsured   \n",
       "2          Urban               Developed          Moderate        Uninsured   \n",
       "3          Urban               Developed          Moderate          Insured   \n",
       "4          Urban              Developing              High          Insured   \n",
       "\n",
       "  Survival_Prediction  \n",
       "0                 Yes  \n",
       "1                 Yes  \n",
       "2                  No  \n",
       "3                 Yes  \n",
       "4                 Yes  \n",
       "\n",
       "[5 rows x 28 columns]"
      ]
     },
     "execution_count": 3,
     "metadata": {},
     "output_type": "execute_result"
    }
   ],
   "source": [
    "df.head()"
   ]
  },
  {
   "cell_type": "code",
   "execution_count": 4,
   "id": "d489e67c",
   "metadata": {},
   "outputs": [
    {
     "data": {
      "text/plain": [
       "Index(['Patient_ID', 'Country', 'Age', 'Gender', 'Cancer_Stage',\n",
       "       'Tumor_Size_mm', 'Family_History', 'Smoking_History',\n",
       "       'Alcohol_Consumption', 'Obesity_BMI', 'Diet_Risk', 'Physical_Activity',\n",
       "       'Diabetes', 'Inflammatory_Bowel_Disease', 'Genetic_Mutation',\n",
       "       'Screening_History', 'Early_Detection', 'Treatment_Type',\n",
       "       'Survival_5_years', 'Mortality', 'Healthcare_Costs',\n",
       "       'Incidence_Rate_per_100K', 'Mortality_Rate_per_100K', 'Urban_or_Rural',\n",
       "       'Economic_Classification', 'Healthcare_Access', 'Insurance_Status',\n",
       "       'Survival_Prediction'],\n",
       "      dtype='object')"
      ]
     },
     "execution_count": 4,
     "metadata": {},
     "output_type": "execute_result"
    }
   ],
   "source": [
    "df.columns"
   ]
  },
  {
   "cell_type": "code",
   "execution_count": 5,
   "id": "96e123e4",
   "metadata": {},
   "outputs": [
    {
     "data": {
      "text/plain": [
       "Country\n",
       "USA             25927\n",
       "China           17525\n",
       "South Korea     14107\n",
       "Japan           13924\n",
       "UK              12276\n",
       "Germany         12258\n",
       "India           10479\n",
       "France          10426\n",
       "Brazil          10399\n",
       "Canada           8819\n",
       "Italy            8795\n",
       "Australia        6877\n",
       "South Africa     5172\n",
       "Nigeria          3551\n",
       "Pakistan         3549\n",
       "New Zealand      3413\n",
       "Name: count, dtype: int64"
      ]
     },
     "execution_count": 5,
     "metadata": {},
     "output_type": "execute_result"
    }
   ],
   "source": [
    "df[\"Country\"].value_counts() "
   ]
  },
  {
   "cell_type": "code",
   "execution_count": 6,
   "id": "67e2a182",
   "metadata": {},
   "outputs": [
    {
     "data": {
      "text/plain": [
       "Gender\n",
       "M    100686\n",
       "F     66811\n",
       "Name: count, dtype: int64"
      ]
     },
     "execution_count": 6,
     "metadata": {},
     "output_type": "execute_result"
    }
   ],
   "source": [
    "df[\"Gender\"].value_counts()"
   ]
  },
  {
   "cell_type": "code",
   "execution_count": 7,
   "id": "b37000d6",
   "metadata": {},
   "outputs": [
    {
     "data": {
      "text/plain": [
       "Cancer_Stage\n",
       "Regional      66981\n",
       "Localized     66799\n",
       "Metastatic    33717\n",
       "Name: count, dtype: int64"
      ]
     },
     "execution_count": 7,
     "metadata": {},
     "output_type": "execute_result"
    }
   ],
   "source": [
    "df[\"Cancer_Stage\"].value_counts()"
   ]
  },
  {
   "cell_type": "code",
   "execution_count": 8,
   "id": "a0e6e9c0",
   "metadata": {},
   "outputs": [
    {
     "data": {
      "text/plain": [
       "Patient_ID                    0\n",
       "Country                       0\n",
       "Age                           0\n",
       "Gender                        0\n",
       "Cancer_Stage                  0\n",
       "Tumor_Size_mm                 0\n",
       "Family_History                0\n",
       "Smoking_History               0\n",
       "Alcohol_Consumption           0\n",
       "Obesity_BMI                   0\n",
       "Diet_Risk                     0\n",
       "Physical_Activity             0\n",
       "Diabetes                      0\n",
       "Inflammatory_Bowel_Disease    0\n",
       "Genetic_Mutation              0\n",
       "Screening_History             0\n",
       "Early_Detection               0\n",
       "Treatment_Type                0\n",
       "Survival_5_years              0\n",
       "Mortality                     0\n",
       "Healthcare_Costs              0\n",
       "Incidence_Rate_per_100K       0\n",
       "Mortality_Rate_per_100K       0\n",
       "Urban_or_Rural                0\n",
       "Economic_Classification       0\n",
       "Healthcare_Access             0\n",
       "Insurance_Status              0\n",
       "Survival_Prediction           0\n",
       "dtype: int64"
      ]
     },
     "execution_count": 8,
     "metadata": {},
     "output_type": "execute_result"
    }
   ],
   "source": [
    "df.isnull().sum()"
   ]
  },
  {
   "cell_type": "code",
   "execution_count": 9,
   "id": "6d826e1f",
   "metadata": {},
   "outputs": [
    {
     "data": {
      "text/plain": [
       "np.int64(0)"
      ]
     },
     "execution_count": 9,
     "metadata": {},
     "output_type": "execute_result"
    }
   ],
   "source": [
    "df.duplicated().sum()"
   ]
  },
  {
   "cell_type": "code",
   "execution_count": 10,
   "id": "a136c3fc",
   "metadata": {},
   "outputs": [
    {
     "data": {
      "text/plain": [
       "(167497, 28)"
      ]
     },
     "execution_count": 10,
     "metadata": {},
     "output_type": "execute_result"
    }
   ],
   "source": [
    "df.shape"
   ]
  },
  {
   "cell_type": "code",
   "execution_count": 11,
   "id": "76eb8a6a",
   "metadata": {},
   "outputs": [
    {
     "name": "stdout",
     "output_type": "stream",
     "text": [
      "<class 'pandas.core.frame.DataFrame'>\n",
      "RangeIndex: 167497 entries, 0 to 167496\n",
      "Data columns (total 28 columns):\n",
      " #   Column                      Non-Null Count   Dtype \n",
      "---  ------                      --------------   ----- \n",
      " 0   Patient_ID                  167497 non-null  int64 \n",
      " 1   Country                     167497 non-null  object\n",
      " 2   Age                         167497 non-null  int64 \n",
      " 3   Gender                      167497 non-null  object\n",
      " 4   Cancer_Stage                167497 non-null  object\n",
      " 5   Tumor_Size_mm               167497 non-null  int64 \n",
      " 6   Family_History              167497 non-null  object\n",
      " 7   Smoking_History             167497 non-null  object\n",
      " 8   Alcohol_Consumption         167497 non-null  object\n",
      " 9   Obesity_BMI                 167497 non-null  object\n",
      " 10  Diet_Risk                   167497 non-null  object\n",
      " 11  Physical_Activity           167497 non-null  object\n",
      " 12  Diabetes                    167497 non-null  object\n",
      " 13  Inflammatory_Bowel_Disease  167497 non-null  object\n",
      " 14  Genetic_Mutation            167497 non-null  object\n",
      " 15  Screening_History           167497 non-null  object\n",
      " 16  Early_Detection             167497 non-null  object\n",
      " 17  Treatment_Type              167497 non-null  object\n",
      " 18  Survival_5_years            167497 non-null  object\n",
      " 19  Mortality                   167497 non-null  object\n",
      " 20  Healthcare_Costs            167497 non-null  int64 \n",
      " 21  Incidence_Rate_per_100K     167497 non-null  int64 \n",
      " 22  Mortality_Rate_per_100K     167497 non-null  int64 \n",
      " 23  Urban_or_Rural              167497 non-null  object\n",
      " 24  Economic_Classification     167497 non-null  object\n",
      " 25  Healthcare_Access           167497 non-null  object\n",
      " 26  Insurance_Status            167497 non-null  object\n",
      " 27  Survival_Prediction         167497 non-null  object\n",
      "dtypes: int64(6), object(22)\n",
      "memory usage: 35.8+ MB\n"
     ]
    }
   ],
   "source": [
    "df.info()"
   ]
  },
  {
   "cell_type": "code",
   "execution_count": 12,
   "id": "40547977",
   "metadata": {},
   "outputs": [
    {
     "data": {
      "text/html": [
       "<div>\n",
       "<style scoped>\n",
       "    .dataframe tbody tr th:only-of-type {\n",
       "        vertical-align: middle;\n",
       "    }\n",
       "\n",
       "    .dataframe tbody tr th {\n",
       "        vertical-align: top;\n",
       "    }\n",
       "\n",
       "    .dataframe thead th {\n",
       "        text-align: right;\n",
       "    }\n",
       "</style>\n",
       "<table border=\"1\" class=\"dataframe\">\n",
       "  <thead>\n",
       "    <tr style=\"text-align: right;\">\n",
       "      <th></th>\n",
       "      <th>Patient_ID</th>\n",
       "      <th>Age</th>\n",
       "      <th>Tumor_Size_mm</th>\n",
       "      <th>Healthcare_Costs</th>\n",
       "      <th>Incidence_Rate_per_100K</th>\n",
       "      <th>Mortality_Rate_per_100K</th>\n",
       "    </tr>\n",
       "  </thead>\n",
       "  <tbody>\n",
       "    <tr>\n",
       "      <th>count</th>\n",
       "      <td>167497.000000</td>\n",
       "      <td>167497.00000</td>\n",
       "      <td>167497.000000</td>\n",
       "      <td>167497.000000</td>\n",
       "      <td>167497.000000</td>\n",
       "      <td>167497.000000</td>\n",
       "    </tr>\n",
       "    <tr>\n",
       "      <th>mean</th>\n",
       "      <td>83749.000000</td>\n",
       "      <td>69.20078</td>\n",
       "      <td>42.005708</td>\n",
       "      <td>72452.168099</td>\n",
       "      <td>34.531562</td>\n",
       "      <td>17.023875</td>\n",
       "    </tr>\n",
       "    <tr>\n",
       "      <th>std</th>\n",
       "      <td>48352.363357</td>\n",
       "      <td>11.87247</td>\n",
       "      <td>21.672206</td>\n",
       "      <td>27402.779597</td>\n",
       "      <td>14.447970</td>\n",
       "      <td>7.208766</td>\n",
       "    </tr>\n",
       "    <tr>\n",
       "      <th>min</th>\n",
       "      <td>1.000000</td>\n",
       "      <td>30.00000</td>\n",
       "      <td>5.000000</td>\n",
       "      <td>25000.000000</td>\n",
       "      <td>10.000000</td>\n",
       "      <td>5.000000</td>\n",
       "    </tr>\n",
       "    <tr>\n",
       "      <th>25%</th>\n",
       "      <td>41875.000000</td>\n",
       "      <td>59.00000</td>\n",
       "      <td>23.000000</td>\n",
       "      <td>48760.000000</td>\n",
       "      <td>22.000000</td>\n",
       "      <td>11.000000</td>\n",
       "    </tr>\n",
       "    <tr>\n",
       "      <th>50%</th>\n",
       "      <td>83749.000000</td>\n",
       "      <td>69.00000</td>\n",
       "      <td>42.000000</td>\n",
       "      <td>72344.000000</td>\n",
       "      <td>35.000000</td>\n",
       "      <td>17.000000</td>\n",
       "    </tr>\n",
       "    <tr>\n",
       "      <th>75%</th>\n",
       "      <td>125623.000000</td>\n",
       "      <td>79.00000</td>\n",
       "      <td>61.000000</td>\n",
       "      <td>96227.000000</td>\n",
       "      <td>47.000000</td>\n",
       "      <td>23.000000</td>\n",
       "    </tr>\n",
       "    <tr>\n",
       "      <th>max</th>\n",
       "      <td>167497.000000</td>\n",
       "      <td>89.00000</td>\n",
       "      <td>79.000000</td>\n",
       "      <td>119999.000000</td>\n",
       "      <td>59.000000</td>\n",
       "      <td>29.000000</td>\n",
       "    </tr>\n",
       "  </tbody>\n",
       "</table>\n",
       "</div>"
      ],
      "text/plain": [
       "          Patient_ID           Age  Tumor_Size_mm  Healthcare_Costs  \\\n",
       "count  167497.000000  167497.00000  167497.000000     167497.000000   \n",
       "mean    83749.000000      69.20078      42.005708      72452.168099   \n",
       "std     48352.363357      11.87247      21.672206      27402.779597   \n",
       "min         1.000000      30.00000       5.000000      25000.000000   \n",
       "25%     41875.000000      59.00000      23.000000      48760.000000   \n",
       "50%     83749.000000      69.00000      42.000000      72344.000000   \n",
       "75%    125623.000000      79.00000      61.000000      96227.000000   \n",
       "max    167497.000000      89.00000      79.000000     119999.000000   \n",
       "\n",
       "       Incidence_Rate_per_100K  Mortality_Rate_per_100K  \n",
       "count            167497.000000            167497.000000  \n",
       "mean                 34.531562                17.023875  \n",
       "std                  14.447970                 7.208766  \n",
       "min                  10.000000                 5.000000  \n",
       "25%                  22.000000                11.000000  \n",
       "50%                  35.000000                17.000000  \n",
       "75%                  47.000000                23.000000  \n",
       "max                  59.000000                29.000000  "
      ]
     },
     "execution_count": 12,
     "metadata": {},
     "output_type": "execute_result"
    }
   ],
   "source": [
    "df.describe()"
   ]
  },
  {
   "cell_type": "markdown",
   "id": "5ab34d6a",
   "metadata": {},
   "source": [
    "## Visualizations"
   ]
  },
  {
   "cell_type": "code",
   "execution_count": 13,
   "id": "26d5f3d7",
   "metadata": {},
   "outputs": [
    {
     "data": {
      "image/png": "[encoded data removed]",
      "text/plain": [
       "<Figure size 600x500 with 1 Axes>"
      ]
     },
     "metadata": {},
     "output_type": "display_data"
    }
   ],
   "source": [
    "plt.figure(figsize=(6, 5))\n",
    "ax = sns.countplot(x=\"Cancer_Stage\", hue=\"Survival_5_years\", data=df, palette=\"coolwarm\")\n",
    "for container in ax.containers:\n",
    "    ax.bar_label(container, fmt='%d', label_type='edge')\n",
    "\n",
    "plt.xlabel(\"Cancer_Stage\")\n",
    "plt.ylabel(\"Number of Patients\")\n",
    "\n",
    "plt.title(\"Cancer stages vs Survival\")\n",
    "plt.show()\n"
   ]
  },
  {
   "cell_type": "code",
   "execution_count": 14,
   "id": "ff527bdd",
   "metadata": {},
   "outputs": [
    {
     "data": {
      "image/png": "[encoded data removed]",
      "text/plain": [
       "<Figure size 600x500 with 1 Axes>"
      ]
     },
     "metadata": {},
     "output_type": "display_data"
    }
   ],
   "source": [
    "plt.figure(figsize=(6, 5))\n",
    "ax = sns.countplot(x=\"Smoking_History\", hue=\"Mortality\", data=df, palette=\"coolwarm\")\n",
    "for container in ax.containers:\n",
    "    ax.bar_label(container, fmt='%d', label_type='edge')\n",
    "\n",
    "plt.xlabel(\"Smoking_History\")\n",
    "plt.ylabel(\"Mortality\")\n",
    "\n",
    "plt.title(\"Smoking History vs Mortality\")\n",
    "plt.show()"
   ]
  },
  {
   "cell_type": "code",
   "execution_count": 15,
   "id": "4ffc10fc",
   "metadata": {},
   "outputs": [
    {
     "name": "stderr",
     "output_type": "stream",
     "text": [
      "C:\\Users\\sals\\AppData\\Local\\Temp\\ipykernel_22200\\3488712259.py:2: FutureWarning: \n",
      "\n",
      "Passing `palette` without assigning `hue` is deprecated and will be removed in v0.14.0. Assign the `x` variable to `hue` and set `legend=False` for the same effect.\n",
      "\n",
      "  sns.boxplot(x=\"Cancer_Stage\", y=\"Tumor_Size_mm\", data=df, palette=\"coolwarm\")\n"
     ]
    },
    {
     "data": {
      "image/png": "[encoded data removed]",
      "text/plain": [
       "<Figure size 500x600 with 1 Axes>"
      ]
     },
     "metadata": {},
     "output_type": "display_data"
    }
   ],
   "source": [
    "plt.figure(figsize=(5, 6))\n",
    "sns.boxplot(x=\"Cancer_Stage\", y=\"Tumor_Size_mm\", data=df, palette=\"coolwarm\")\n",
    "plt.title(\"Tumor Size vs Cancer Stage\")\n",
    "plt.xlabel(\"Cancer Stage\")\n",
    "plt.ylabel(\"Tumor Size (mm)\")\n",
    "plt.tight_layout()\n",
    "plt.show()\n"
   ]
  },
  {
   "cell_type": "code",
   "execution_count": 16,
   "id": "a27aa018",
   "metadata": {},
   "outputs": [
    {
     "name": "stderr",
     "output_type": "stream",
     "text": [
      "C:\\Users\\sals\\AppData\\Local\\Temp\\ipykernel_22200\\3263588294.py:1: FutureWarning: \n",
      "\n",
      "Passing `palette` without assigning `hue` is deprecated and will be removed in v0.14.0. Assign the `x` variable to `hue` and set `legend=False` for the same effect.\n",
      "\n",
      "  sns.boxplot(x=\"Survival_Prediction\", y=\"Healthcare_Costs\", data=df, palette=\"coolwarm\")\n"
     ]
    },
    {
     "data": {
      "image/png": "[encoded data removed]",
      "text/plain": [
       "<Figure size 640x480 with 1 Axes>"
      ]
     },
     "metadata": {},
     "output_type": "display_data"
    }
   ],
   "source": [
    "sns.boxplot(x=\"Survival_Prediction\", y=\"Healthcare_Costs\", data=df, palette=\"coolwarm\")\n",
    "plt.title(\"Healthcare Costs by Survival Prediction\")\n",
    "plt.xlabel(\"Survival Prediction\")\n",
    "plt.ylabel(\"Healthcare Costs\")\n",
    "plt.tight_layout()\n",
    "plt.show()\n"
   ]
  },
  {
   "cell_type": "markdown",
   "id": "9586169b",
   "metadata": {},
   "source": [
    "# DATA PROCESSING"
   ]
  },
  {
   "cell_type": "code",
   "execution_count": 17,
   "id": "064b19ad",
   "metadata": {},
   "outputs": [],
   "source": [
    "df = df.drop(columns = [\"Patient_ID\"])"
   ]
  },
  {
   "cell_type": "code",
   "execution_count": 18,
   "id": "fcfd9934",
   "metadata": {},
   "outputs": [],
   "source": [
    "X = df.drop(columns= [\"Survival_Prediction\"])\n",
    "Y = df[\"Survival_Prediction\"]"
   ]
  },
  {
   "cell_type": "code",
   "execution_count": 19,
   "id": "20f8ca46",
   "metadata": {},
   "outputs": [],
   "source": [
    "categorical_cols = X.select_dtypes(include= [\"object\"]).columns"
   ]
  },
  {
   "cell_type": "code",
   "execution_count": 20,
   "id": "84c36ce8",
   "metadata": {},
   "outputs": [
    {
     "data": {
      "text/plain": [
       "Index(['Country', 'Gender', 'Cancer_Stage', 'Family_History',\n",
       "       'Smoking_History', 'Alcohol_Consumption', 'Obesity_BMI', 'Diet_Risk',\n",
       "       'Physical_Activity', 'Diabetes', 'Inflammatory_Bowel_Disease',\n",
       "       'Genetic_Mutation', 'Screening_History', 'Early_Detection',\n",
       "       'Treatment_Type', 'Survival_5_years', 'Mortality', 'Urban_or_Rural',\n",
       "       'Economic_Classification', 'Healthcare_Access', 'Insurance_Status'],\n",
       "      dtype='object')"
      ]
     },
     "execution_count": 20,
     "metadata": {},
     "output_type": "execute_result"
    }
   ],
   "source": [
    "categorical_cols"
   ]
  },
  {
   "cell_type": "code",
   "execution_count": 21,
   "id": "4760fb0f",
   "metadata": {},
   "outputs": [
    {
     "data": {
      "text/plain": [
       "21"
      ]
     },
     "execution_count": 21,
     "metadata": {},
     "output_type": "execute_result"
    }
   ],
   "source": [
    "len(categorical_cols)"
   ]
  },
  {
   "cell_type": "code",
   "execution_count": 22,
   "id": "a69b81e5",
   "metadata": {},
   "outputs": [],
   "source": [
    "from sklearn.preprocessing import LabelEncoder\n",
    "label_encoders = {}\n",
    "for col in categorical_cols:\n",
    "    le = LabelEncoder()\n",
    "    X[col] = le.fit_transform(X[col])\n",
    "    label_encoders[col] = le"
   ]
  },
  {
   "cell_type": "code",
   "execution_count": 23,
   "id": "382dc67f",
   "metadata": {},
   "outputs": [
    {
     "data": {
      "text/html": [
       "<div>\n",
       "<style scoped>\n",
       "    .dataframe tbody tr th:only-of-type {\n",
       "        vertical-align: middle;\n",
       "    }\n",
       "\n",
       "    .dataframe tbody tr th {\n",
       "        vertical-align: top;\n",
       "    }\n",
       "\n",
       "    .dataframe thead th {\n",
       "        text-align: right;\n",
       "    }\n",
       "</style>\n",
       "<table border=\"1\" class=\"dataframe\">\n",
       "  <thead>\n",
       "    <tr style=\"text-align: right;\">\n",
       "      <th></th>\n",
       "      <th>Country</th>\n",
       "      <th>Age</th>\n",
       "      <th>Gender</th>\n",
       "      <th>Cancer_Stage</th>\n",
       "      <th>Tumor_Size_mm</th>\n",
       "      <th>Family_History</th>\n",
       "      <th>Smoking_History</th>\n",
       "      <th>Alcohol_Consumption</th>\n",
       "      <th>Obesity_BMI</th>\n",
       "      <th>Diet_Risk</th>\n",
       "      <th>...</th>\n",
       "      <th>Treatment_Type</th>\n",
       "      <th>Survival_5_years</th>\n",
       "      <th>Mortality</th>\n",
       "      <th>Healthcare_Costs</th>\n",
       "      <th>Incidence_Rate_per_100K</th>\n",
       "      <th>Mortality_Rate_per_100K</th>\n",
       "      <th>Urban_or_Rural</th>\n",
       "      <th>Economic_Classification</th>\n",
       "      <th>Healthcare_Access</th>\n",
       "      <th>Insurance_Status</th>\n",
       "    </tr>\n",
       "  </thead>\n",
       "  <tbody>\n",
       "    <tr>\n",
       "      <th>0</th>\n",
       "      <td>14</td>\n",
       "      <td>77</td>\n",
       "      <td>1</td>\n",
       "      <td>0</td>\n",
       "      <td>69</td>\n",
       "      <td>0</td>\n",
       "      <td>0</td>\n",
       "      <td>1</td>\n",
       "      <td>2</td>\n",
       "      <td>1</td>\n",
       "      <td>...</td>\n",
       "      <td>1</td>\n",
       "      <td>1</td>\n",
       "      <td>0</td>\n",
       "      <td>54413</td>\n",
       "      <td>50</td>\n",
       "      <td>5</td>\n",
       "      <td>1</td>\n",
       "      <td>0</td>\n",
       "      <td>2</td>\n",
       "      <td>0</td>\n",
       "    </tr>\n",
       "    <tr>\n",
       "      <th>1</th>\n",
       "      <td>14</td>\n",
       "      <td>59</td>\n",
       "      <td>1</td>\n",
       "      <td>0</td>\n",
       "      <td>33</td>\n",
       "      <td>0</td>\n",
       "      <td>0</td>\n",
       "      <td>0</td>\n",
       "      <td>2</td>\n",
       "      <td>2</td>\n",
       "      <td>...</td>\n",
       "      <td>0</td>\n",
       "      <td>1</td>\n",
       "      <td>0</td>\n",
       "      <td>76553</td>\n",
       "      <td>37</td>\n",
       "      <td>25</td>\n",
       "      <td>1</td>\n",
       "      <td>1</td>\n",
       "      <td>0</td>\n",
       "      <td>1</td>\n",
       "    </tr>\n",
       "    <tr>\n",
       "      <th>2</th>\n",
       "      <td>8</td>\n",
       "      <td>66</td>\n",
       "      <td>1</td>\n",
       "      <td>2</td>\n",
       "      <td>17</td>\n",
       "      <td>0</td>\n",
       "      <td>1</td>\n",
       "      <td>0</td>\n",
       "      <td>0</td>\n",
       "      <td>1</td>\n",
       "      <td>...</td>\n",
       "      <td>0</td>\n",
       "      <td>1</td>\n",
       "      <td>0</td>\n",
       "      <td>62805</td>\n",
       "      <td>54</td>\n",
       "      <td>27</td>\n",
       "      <td>1</td>\n",
       "      <td>0</td>\n",
       "      <td>2</td>\n",
       "      <td>1</td>\n",
       "    </tr>\n",
       "    <tr>\n",
       "      <th>3</th>\n",
       "      <td>15</td>\n",
       "      <td>83</td>\n",
       "      <td>1</td>\n",
       "      <td>2</td>\n",
       "      <td>14</td>\n",
       "      <td>0</td>\n",
       "      <td>0</td>\n",
       "      <td>0</td>\n",
       "      <td>1</td>\n",
       "      <td>0</td>\n",
       "      <td>...</td>\n",
       "      <td>3</td>\n",
       "      <td>1</td>\n",
       "      <td>0</td>\n",
       "      <td>89393</td>\n",
       "      <td>45</td>\n",
       "      <td>11</td>\n",
       "      <td>1</td>\n",
       "      <td>0</td>\n",
       "      <td>2</td>\n",
       "      <td>0</td>\n",
       "    </tr>\n",
       "    <tr>\n",
       "      <th>4</th>\n",
       "      <td>4</td>\n",
       "      <td>66</td>\n",
       "      <td>1</td>\n",
       "      <td>0</td>\n",
       "      <td>34</td>\n",
       "      <td>0</td>\n",
       "      <td>1</td>\n",
       "      <td>0</td>\n",
       "      <td>0</td>\n",
       "      <td>1</td>\n",
       "      <td>...</td>\n",
       "      <td>3</td>\n",
       "      <td>1</td>\n",
       "      <td>0</td>\n",
       "      <td>66425</td>\n",
       "      <td>15</td>\n",
       "      <td>27</td>\n",
       "      <td>1</td>\n",
       "      <td>1</td>\n",
       "      <td>0</td>\n",
       "      <td>0</td>\n",
       "    </tr>\n",
       "  </tbody>\n",
       "</table>\n",
       "<p>5 rows × 26 columns</p>\n",
       "</div>"
      ],
      "text/plain": [
       "   Country  Age  Gender  Cancer_Stage  Tumor_Size_mm  Family_History  \\\n",
       "0       14   77       1             0             69               0   \n",
       "1       14   59       1             0             33               0   \n",
       "2        8   66       1             2             17               0   \n",
       "3       15   83       1             2             14               0   \n",
       "4        4   66       1             0             34               0   \n",
       "\n",
       "   Smoking_History  Alcohol_Consumption  Obesity_BMI  Diet_Risk  ...  \\\n",
       "0                0                    1            2          1  ...   \n",
       "1                0                    0            2          2  ...   \n",
       "2                1                    0            0          1  ...   \n",
       "3                0                    0            1          0  ...   \n",
       "4                1                    0            0          1  ...   \n",
       "\n",
       "   Treatment_Type  Survival_5_years  Mortality  Healthcare_Costs  \\\n",
       "0               1                 1          0             54413   \n",
       "1               0                 1          0             76553   \n",
       "2               0                 1          0             62805   \n",
       "3               3                 1          0             89393   \n",
       "4               3                 1          0             66425   \n",
       "\n",
       "   Incidence_Rate_per_100K  Mortality_Rate_per_100K  Urban_or_Rural  \\\n",
       "0                       50                        5               1   \n",
       "1                       37                       25               1   \n",
       "2                       54                       27               1   \n",
       "3                       45                       11               1   \n",
       "4                       15                       27               1   \n",
       "\n",
       "   Economic_Classification  Healthcare_Access  Insurance_Status  \n",
       "0                        0                  2                 0  \n",
       "1                        1                  0                 1  \n",
       "2                        0                  2                 1  \n",
       "3                        0                  2                 0  \n",
       "4                        1                  0                 0  \n",
       "\n",
       "[5 rows x 26 columns]"
      ]
     },
     "execution_count": 23,
     "metadata": {},
     "output_type": "execute_result"
    }
   ],
   "source": [
    "X.head()"
   ]
  },
  {
   "cell_type": "code",
   "execution_count": 24,
   "id": "8c5118b5",
   "metadata": {},
   "outputs": [
    {
     "name": "stdout",
     "output_type": "stream",
     "text": [
      "<class 'pandas.core.frame.DataFrame'>\n",
      "RangeIndex: 167497 entries, 0 to 167496\n",
      "Data columns (total 26 columns):\n",
      " #   Column                      Non-Null Count   Dtype\n",
      "---  ------                      --------------   -----\n",
      " 0   Country                     167497 non-null  int64\n",
      " 1   Age                         167497 non-null  int64\n",
      " 2   Gender                      167497 non-null  int64\n",
      " 3   Cancer_Stage                167497 non-null  int64\n",
      " 4   Tumor_Size_mm               167497 non-null  int64\n",
      " 5   Family_History              167497 non-null  int64\n",
      " 6   Smoking_History             167497 non-null  int64\n",
      " 7   Alcohol_Consumption         167497 non-null  int64\n",
      " 8   Obesity_BMI                 167497 non-null  int64\n",
      " 9   Diet_Risk                   167497 non-null  int64\n",
      " 10  Physical_Activity           167497 non-null  int64\n",
      " 11  Diabetes                    167497 non-null  int64\n",
      " 12  Inflammatory_Bowel_Disease  167497 non-null  int64\n",
      " 13  Genetic_Mutation            167497 non-null  int64\n",
      " 14  Screening_History           167497 non-null  int64\n",
      " 15  Early_Detection             167497 non-null  int64\n",
      " 16  Treatment_Type              167497 non-null  int64\n",
      " 17  Survival_5_years            167497 non-null  int64\n",
      " 18  Mortality                   167497 non-null  int64\n",
      " 19  Healthcare_Costs            167497 non-null  int64\n",
      " 20  Incidence_Rate_per_100K     167497 non-null  int64\n",
      " 21  Mortality_Rate_per_100K     167497 non-null  int64\n",
      " 22  Urban_or_Rural              167497 non-null  int64\n",
      " 23  Economic_Classification     167497 non-null  int64\n",
      " 24  Healthcare_Access           167497 non-null  int64\n",
      " 25  Insurance_Status            167497 non-null  int64\n",
      "dtypes: int64(26)\n",
      "memory usage: 33.2 MB\n"
     ]
    }
   ],
   "source": [
    "X.info()"
   ]
  },
  {
   "cell_type": "code",
   "execution_count": 25,
   "id": "1b6d9de9",
   "metadata": {},
   "outputs": [],
   "source": [
    "from sklearn.model_selection import train_test_split"
   ]
  },
  {
   "cell_type": "code",
   "execution_count": 26,
   "id": "19bf2621",
   "metadata": {},
   "outputs": [],
   "source": [
    "X_train, X_test, y_train, y_test = train_test_split(X,Y, test_size = 0.2, random_state = 42)"
   ]
  },
  {
   "cell_type": "code",
   "execution_count": 27,
   "id": "6edf9cb5",
   "metadata": {},
   "outputs": [
    {
     "data": {
      "text/html": [
       "<div>\n",
       "<style scoped>\n",
       "    .dataframe tbody tr th:only-of-type {\n",
       "        vertical-align: middle;\n",
       "    }\n",
       "\n",
       "    .dataframe tbody tr th {\n",
       "        vertical-align: top;\n",
       "    }\n",
       "\n",
       "    .dataframe thead th {\n",
       "        text-align: right;\n",
       "    }\n",
       "</style>\n",
       "<table border=\"1\" class=\"dataframe\">\n",
       "  <thead>\n",
       "    <tr style=\"text-align: right;\">\n",
       "      <th></th>\n",
       "      <th>Country</th>\n",
       "      <th>Age</th>\n",
       "      <th>Gender</th>\n",
       "      <th>Cancer_Stage</th>\n",
       "      <th>Tumor_Size_mm</th>\n",
       "      <th>Family_History</th>\n",
       "      <th>Smoking_History</th>\n",
       "      <th>Alcohol_Consumption</th>\n",
       "      <th>Obesity_BMI</th>\n",
       "      <th>Diet_Risk</th>\n",
       "      <th>...</th>\n",
       "      <th>Treatment_Type</th>\n",
       "      <th>Survival_5_years</th>\n",
       "      <th>Mortality</th>\n",
       "      <th>Healthcare_Costs</th>\n",
       "      <th>Incidence_Rate_per_100K</th>\n",
       "      <th>Mortality_Rate_per_100K</th>\n",
       "      <th>Urban_or_Rural</th>\n",
       "      <th>Economic_Classification</th>\n",
       "      <th>Healthcare_Access</th>\n",
       "      <th>Insurance_Status</th>\n",
       "    </tr>\n",
       "  </thead>\n",
       "  <tbody>\n",
       "    <tr>\n",
       "      <th>24800</th>\n",
       "      <td>3</td>\n",
       "      <td>87</td>\n",
       "      <td>1</td>\n",
       "      <td>1</td>\n",
       "      <td>54</td>\n",
       "      <td>1</td>\n",
       "      <td>0</td>\n",
       "      <td>0</td>\n",
       "      <td>2</td>\n",
       "      <td>2</td>\n",
       "      <td>...</td>\n",
       "      <td>3</td>\n",
       "      <td>1</td>\n",
       "      <td>1</td>\n",
       "      <td>105614</td>\n",
       "      <td>59</td>\n",
       "      <td>12</td>\n",
       "      <td>0</td>\n",
       "      <td>1</td>\n",
       "      <td>1</td>\n",
       "      <td>0</td>\n",
       "    </tr>\n",
       "    <tr>\n",
       "      <th>66479</th>\n",
       "      <td>8</td>\n",
       "      <td>71</td>\n",
       "      <td>1</td>\n",
       "      <td>2</td>\n",
       "      <td>73</td>\n",
       "      <td>0</td>\n",
       "      <td>1</td>\n",
       "      <td>1</td>\n",
       "      <td>1</td>\n",
       "      <td>2</td>\n",
       "      <td>...</td>\n",
       "      <td>3</td>\n",
       "      <td>1</td>\n",
       "      <td>1</td>\n",
       "      <td>115822</td>\n",
       "      <td>33</td>\n",
       "      <td>10</td>\n",
       "      <td>1</td>\n",
       "      <td>1</td>\n",
       "      <td>2</td>\n",
       "      <td>0</td>\n",
       "    </tr>\n",
       "    <tr>\n",
       "      <th>143021</th>\n",
       "      <td>3</td>\n",
       "      <td>63</td>\n",
       "      <td>0</td>\n",
       "      <td>2</td>\n",
       "      <td>37</td>\n",
       "      <td>0</td>\n",
       "      <td>0</td>\n",
       "      <td>0</td>\n",
       "      <td>2</td>\n",
       "      <td>0</td>\n",
       "      <td>...</td>\n",
       "      <td>0</td>\n",
       "      <td>1</td>\n",
       "      <td>0</td>\n",
       "      <td>50819</td>\n",
       "      <td>50</td>\n",
       "      <td>10</td>\n",
       "      <td>0</td>\n",
       "      <td>0</td>\n",
       "      <td>2</td>\n",
       "      <td>0</td>\n",
       "    </tr>\n",
       "    <tr>\n",
       "      <th>17512</th>\n",
       "      <td>2</td>\n",
       "      <td>51</td>\n",
       "      <td>1</td>\n",
       "      <td>0</td>\n",
       "      <td>31</td>\n",
       "      <td>0</td>\n",
       "      <td>1</td>\n",
       "      <td>0</td>\n",
       "      <td>2</td>\n",
       "      <td>2</td>\n",
       "      <td>...</td>\n",
       "      <td>0</td>\n",
       "      <td>1</td>\n",
       "      <td>0</td>\n",
       "      <td>25902</td>\n",
       "      <td>47</td>\n",
       "      <td>8</td>\n",
       "      <td>0</td>\n",
       "      <td>0</td>\n",
       "      <td>1</td>\n",
       "      <td>1</td>\n",
       "    </tr>\n",
       "    <tr>\n",
       "      <th>86417</th>\n",
       "      <td>4</td>\n",
       "      <td>67</td>\n",
       "      <td>1</td>\n",
       "      <td>1</td>\n",
       "      <td>15</td>\n",
       "      <td>0</td>\n",
       "      <td>1</td>\n",
       "      <td>0</td>\n",
       "      <td>0</td>\n",
       "      <td>1</td>\n",
       "      <td>...</td>\n",
       "      <td>3</td>\n",
       "      <td>1</td>\n",
       "      <td>0</td>\n",
       "      <td>118806</td>\n",
       "      <td>20</td>\n",
       "      <td>5</td>\n",
       "      <td>1</td>\n",
       "      <td>1</td>\n",
       "      <td>2</td>\n",
       "      <td>1</td>\n",
       "    </tr>\n",
       "    <tr>\n",
       "      <th>...</th>\n",
       "      <td>...</td>\n",
       "      <td>...</td>\n",
       "      <td>...</td>\n",
       "      <td>...</td>\n",
       "      <td>...</td>\n",
       "      <td>...</td>\n",
       "      <td>...</td>\n",
       "      <td>...</td>\n",
       "      <td>...</td>\n",
       "      <td>...</td>\n",
       "      <td>...</td>\n",
       "      <td>...</td>\n",
       "      <td>...</td>\n",
       "      <td>...</td>\n",
       "      <td>...</td>\n",
       "      <td>...</td>\n",
       "      <td>...</td>\n",
       "      <td>...</td>\n",
       "      <td>...</td>\n",
       "      <td>...</td>\n",
       "      <td>...</td>\n",
       "    </tr>\n",
       "    <tr>\n",
       "      <th>119879</th>\n",
       "      <td>7</td>\n",
       "      <td>75</td>\n",
       "      <td>1</td>\n",
       "      <td>0</td>\n",
       "      <td>14</td>\n",
       "      <td>0</td>\n",
       "      <td>0</td>\n",
       "      <td>1</td>\n",
       "      <td>0</td>\n",
       "      <td>0</td>\n",
       "      <td>...</td>\n",
       "      <td>3</td>\n",
       "      <td>0</td>\n",
       "      <td>1</td>\n",
       "      <td>44031</td>\n",
       "      <td>42</td>\n",
       "      <td>13</td>\n",
       "      <td>0</td>\n",
       "      <td>0</td>\n",
       "      <td>1</td>\n",
       "      <td>0</td>\n",
       "    </tr>\n",
       "    <tr>\n",
       "      <th>103694</th>\n",
       "      <td>2</td>\n",
       "      <td>70</td>\n",
       "      <td>0</td>\n",
       "      <td>2</td>\n",
       "      <td>26</td>\n",
       "      <td>1</td>\n",
       "      <td>1</td>\n",
       "      <td>0</td>\n",
       "      <td>0</td>\n",
       "      <td>1</td>\n",
       "      <td>...</td>\n",
       "      <td>2</td>\n",
       "      <td>1</td>\n",
       "      <td>0</td>\n",
       "      <td>104569</td>\n",
       "      <td>11</td>\n",
       "      <td>16</td>\n",
       "      <td>0</td>\n",
       "      <td>0</td>\n",
       "      <td>2</td>\n",
       "      <td>1</td>\n",
       "    </tr>\n",
       "    <tr>\n",
       "      <th>131932</th>\n",
       "      <td>0</td>\n",
       "      <td>59</td>\n",
       "      <td>0</td>\n",
       "      <td>2</td>\n",
       "      <td>22</td>\n",
       "      <td>0</td>\n",
       "      <td>0</td>\n",
       "      <td>0</td>\n",
       "      <td>1</td>\n",
       "      <td>2</td>\n",
       "      <td>...</td>\n",
       "      <td>1</td>\n",
       "      <td>1</td>\n",
       "      <td>0</td>\n",
       "      <td>28140</td>\n",
       "      <td>12</td>\n",
       "      <td>12</td>\n",
       "      <td>1</td>\n",
       "      <td>0</td>\n",
       "      <td>2</td>\n",
       "      <td>1</td>\n",
       "    </tr>\n",
       "    <tr>\n",
       "      <th>146867</th>\n",
       "      <td>3</td>\n",
       "      <td>85</td>\n",
       "      <td>1</td>\n",
       "      <td>1</td>\n",
       "      <td>26</td>\n",
       "      <td>0</td>\n",
       "      <td>1</td>\n",
       "      <td>1</td>\n",
       "      <td>1</td>\n",
       "      <td>2</td>\n",
       "      <td>...</td>\n",
       "      <td>3</td>\n",
       "      <td>1</td>\n",
       "      <td>0</td>\n",
       "      <td>113454</td>\n",
       "      <td>23</td>\n",
       "      <td>22</td>\n",
       "      <td>1</td>\n",
       "      <td>0</td>\n",
       "      <td>2</td>\n",
       "      <td>0</td>\n",
       "    </tr>\n",
       "    <tr>\n",
       "      <th>121958</th>\n",
       "      <td>4</td>\n",
       "      <td>83</td>\n",
       "      <td>1</td>\n",
       "      <td>2</td>\n",
       "      <td>41</td>\n",
       "      <td>0</td>\n",
       "      <td>0</td>\n",
       "      <td>0</td>\n",
       "      <td>0</td>\n",
       "      <td>1</td>\n",
       "      <td>...</td>\n",
       "      <td>3</td>\n",
       "      <td>1</td>\n",
       "      <td>1</td>\n",
       "      <td>54377</td>\n",
       "      <td>11</td>\n",
       "      <td>5</td>\n",
       "      <td>1</td>\n",
       "      <td>0</td>\n",
       "      <td>2</td>\n",
       "      <td>0</td>\n",
       "    </tr>\n",
       "  </tbody>\n",
       "</table>\n",
       "<p>133997 rows × 26 columns</p>\n",
       "</div>"
      ],
      "text/plain": [
       "        Country  Age  Gender  Cancer_Stage  Tumor_Size_mm  Family_History  \\\n",
       "24800         3   87       1             1             54               1   \n",
       "66479         8   71       1             2             73               0   \n",
       "143021        3   63       0             2             37               0   \n",
       "17512         2   51       1             0             31               0   \n",
       "86417         4   67       1             1             15               0   \n",
       "...         ...  ...     ...           ...            ...             ...   \n",
       "119879        7   75       1             0             14               0   \n",
       "103694        2   70       0             2             26               1   \n",
       "131932        0   59       0             2             22               0   \n",
       "146867        3   85       1             1             26               0   \n",
       "121958        4   83       1             2             41               0   \n",
       "\n",
       "        Smoking_History  Alcohol_Consumption  Obesity_BMI  Diet_Risk  ...  \\\n",
       "24800                 0                    0            2          2  ...   \n",
       "66479                 1                    1            1          2  ...   \n",
       "143021                0                    0            2          0  ...   \n",
       "17512                 1                    0            2          2  ...   \n",
       "86417                 1                    0            0          1  ...   \n",
       "...                 ...                  ...          ...        ...  ...   \n",
       "119879                0                    1            0          0  ...   \n",
       "103694                1                    0            0          1  ...   \n",
       "131932                0                    0            1          2  ...   \n",
       "146867                1                    1            1          2  ...   \n",
       "121958                0                    0            0          1  ...   \n",
       "\n",
       "        Treatment_Type  Survival_5_years  Mortality  Healthcare_Costs  \\\n",
       "24800                3                 1          1            105614   \n",
       "66479                3                 1          1            115822   \n",
       "143021               0                 1          0             50819   \n",
       "17512                0                 1          0             25902   \n",
       "86417                3                 1          0            118806   \n",
       "...                ...               ...        ...               ...   \n",
       "119879               3                 0          1             44031   \n",
       "103694               2                 1          0            104569   \n",
       "131932               1                 1          0             28140   \n",
       "146867               3                 1          0            113454   \n",
       "121958               3                 1          1             54377   \n",
       "\n",
       "        Incidence_Rate_per_100K  Mortality_Rate_per_100K  Urban_or_Rural  \\\n",
       "24800                        59                       12               0   \n",
       "66479                        33                       10               1   \n",
       "143021                       50                       10               0   \n",
       "17512                        47                        8               0   \n",
       "86417                        20                        5               1   \n",
       "...                         ...                      ...             ...   \n",
       "119879                       42                       13               0   \n",
       "103694                       11                       16               0   \n",
       "131932                       12                       12               1   \n",
       "146867                       23                       22               1   \n",
       "121958                       11                        5               1   \n",
       "\n",
       "        Economic_Classification  Healthcare_Access  Insurance_Status  \n",
       "24800                         1                  1                 0  \n",
       "66479                         1                  2                 0  \n",
       "143021                        0                  2                 0  \n",
       "17512                         0                  1                 1  \n",
       "86417                         1                  2                 1  \n",
       "...                         ...                ...               ...  \n",
       "119879                        0                  1                 0  \n",
       "103694                        0                  2                 1  \n",
       "131932                        0                  2                 1  \n",
       "146867                        0                  2                 0  \n",
       "121958                        0                  2                 0  \n",
       "\n",
       "[133997 rows x 26 columns]"
      ]
     },
     "execution_count": 27,
     "metadata": {},
     "output_type": "execute_result"
    }
   ],
   "source": [
    "X_train"
   ]
  },
  {
   "cell_type": "code",
   "execution_count": 28,
   "id": "5314e9b6",
   "metadata": {},
   "outputs": [
    {
     "data": {
      "text/plain": [
       "24800      No\n",
       "66479     Yes\n",
       "143021    Yes\n",
       "17512      No\n",
       "86417      No\n",
       "         ... \n",
       "119879    Yes\n",
       "103694    Yes\n",
       "131932    Yes\n",
       "146867     No\n",
       "121958    Yes\n",
       "Name: Survival_Prediction, Length: 133997, dtype: object"
      ]
     },
     "execution_count": 28,
     "metadata": {},
     "output_type": "execute_result"
    }
   ],
   "source": [
    "y_train"
   ]
  },
  {
   "cell_type": "code",
   "execution_count": 29,
   "id": "f64db4a9",
   "metadata": {},
   "outputs": [
    {
     "name": "stdout",
     "output_type": "stream",
     "text": [
      "                       Feature  Chi2 Score\n",
      "11                    Diabetes    2.103967\n",
      "16              Treatment_Type    1.662381\n",
      "25            Insurance_Status    1.464241\n",
      "3                 Cancer_Stage    0.640925\n",
      "14           Screening_History    0.579760\n",
      "17            Survival_5_years    0.545494\n",
      "23     Economic_Classification    0.381835\n",
      "24           Healthcare_Access    0.356673\n",
      "22              Urban_or_Rural    0.355363\n",
      "6              Smoking_History    0.280786\n",
      "9                    Diet_Risk    0.222693\n",
      "7          Alcohol_Consumption    0.209884\n",
      "4                Tumor_Size_mm    0.122267\n",
      "21     Mortality_Rate_per_100K    0.115776\n",
      "5               Family_History    0.095201\n",
      "8                  Obesity_BMI    0.075796\n",
      "15             Early_Detection    0.063440\n",
      "0                      Country    0.058895\n",
      "18                   Mortality    0.056049\n",
      "13            Genetic_Mutation    0.049299\n",
      "19            Healthcare_Costs    0.033721\n",
      "10           Physical_Activity    0.024455\n",
      "1                          Age    0.020332\n",
      "2                       Gender    0.011476\n",
      "20     Incidence_Rate_per_100K    0.005997\n",
      "12  Inflammatory_Bowel_Disease    0.001772\n"
     ]
    }
   ],
   "source": [
    "from sklearn.feature_selection import SelectKBest, chi2\n",
    "from sklearn.preprocessing import MinMaxScaler\n",
    "\n",
    "# Select only non-negative features (required by chi2) — categorical/numeric encoded\n",
    "X_cat = X_train.select_dtypes(include=['int64', 'float64'])\n",
    "\n",
    "# Scale features to [0, 1] (required for chi2)\n",
    "scaler = MinMaxScaler()\n",
    "X_cat_scaled = scaler.fit_transform(X_cat)\n",
    "\n",
    "# Chi2 test: score all features (k='all') w.r.t. classification target\n",
    "chi2_selector = SelectKBest(score_func=chi2, k='all')\n",
    "chi2_selector.fit(X_cat_scaled, y_train)\n",
    "\n",
    "# Show scores\n",
    "feature_scores = pd.DataFrame({\n",
    "    'Feature': X_cat.columns,\n",
    "    'Chi2 Score': chi2_selector.scores_\n",
    "}).sort_values(by='Chi2 Score', ascending=False)\n",
    "\n",
    "print(feature_scores)\n"
   ]
  },
  {
   "cell_type": "code",
   "execution_count": 30,
   "id": "a029903e",
   "metadata": {},
   "outputs": [],
   "source": [
    "top_features = (feature_scores.head(5))[\"Feature\"].tolist()"
   ]
  },
  {
   "cell_type": "code",
   "execution_count": 31,
   "id": "8cc3d4f1",
   "metadata": {},
   "outputs": [],
   "source": [
    "X = X[top_features]"
   ]
  },
  {
   "cell_type": "code",
   "execution_count": 32,
   "id": "9b2e6621",
   "metadata": {},
   "outputs": [
    {
     "data": {
      "text/plain": [
       "(167497, 5)"
      ]
     },
     "execution_count": 32,
     "metadata": {},
     "output_type": "execute_result"
    }
   ],
   "source": [
    "X.shape"
   ]
  },
  {
   "cell_type": "code",
   "execution_count": 33,
   "id": "53337890",
   "metadata": {},
   "outputs": [
    {
     "data": {
      "text/plain": [
       "(167497,)"
      ]
     },
     "execution_count": 33,
     "metadata": {},
     "output_type": "execute_result"
    }
   ],
   "source": [
    "Y.shape"
   ]
  },
  {
   "cell_type": "code",
   "execution_count": 34,
   "id": "829ae06d",
   "metadata": {},
   "outputs": [],
   "source": [
    "X_train, X_test, y_train, y_test = train_test_split(X,Y, test_size = 0.2, random_state = 42)"
   ]
  },
  {
   "cell_type": "markdown",
   "id": "e9f2f8dd",
   "metadata": {},
   "source": [
    "## MODEL BUILDING"
   ]
  },
  {
   "cell_type": "code",
   "execution_count": 35,
   "id": "93e67177",
   "metadata": {},
   "outputs": [],
   "source": [
    "from sklearn.preprocessing import StandardScaler\n",
    "\n",
    "scaler = StandardScaler() \n",
    "X_train = scaler.fit_transform(X_train) \n",
    "X_test = scaler.transform(X_test)     "
   ]
  },
  {
   "cell_type": "code",
   "execution_count": 36,
   "id": "d92b9a89",
   "metadata": {},
   "outputs": [],
   "source": [
    "from sklearn.ensemble import GradientBoostingClassifier\n",
    "gb = GradientBoostingClassifier(n_estimators=100 , learning_rate=0.1 , max_depth=3 , random_state=42)\n",
    "gb.fit(X_train,y_train)\n",
    "y_pred = gb.predict(X_test)"
   ]
  },
  {
   "cell_type": "code",
   "execution_count": 37,
   "id": "938144bb",
   "metadata": {},
   "outputs": [
    {
     "data": {
      "text/plain": [
       "0.606"
      ]
     },
     "execution_count": 37,
     "metadata": {},
     "output_type": "execute_result"
    }
   ],
   "source": [
    "from sklearn.metrics import accuracy_score , roc_auc_score, classification_report\n",
    "accuracy = accuracy_score(y_test , y_pred)\n",
    "accuracy"
   ]
  },
  {
   "cell_type": "code",
   "execution_count": 38,
   "id": "a45f35fc",
   "metadata": {},
   "outputs": [
    {
     "name": "stderr",
     "output_type": "stream",
     "text": [
      "d:\\crc-prognosis-model\\project\\Lib\\site-packages\\sklearn\\metrics\\_classification.py:1565: UndefinedMetricWarning: Precision is ill-defined and being set to 0.0 in labels with no predicted samples. Use `zero_division` parameter to control this behavior.\n",
      "  _warn_prf(average, modifier, f\"{metric.capitalize()} is\", len(result))\n",
      "d:\\crc-prognosis-model\\project\\Lib\\site-packages\\sklearn\\metrics\\_classification.py:1565: UndefinedMetricWarning: Precision is ill-defined and being set to 0.0 in labels with no predicted samples. Use `zero_division` parameter to control this behavior.\n",
      "  _warn_prf(average, modifier, f\"{metric.capitalize()} is\", len(result))\n",
      "d:\\crc-prognosis-model\\project\\Lib\\site-packages\\sklearn\\metrics\\_classification.py:1565: UndefinedMetricWarning: Precision is ill-defined and being set to 0.0 in labels with no predicted samples. Use `zero_division` parameter to control this behavior.\n",
      "  _warn_prf(average, modifier, f\"{metric.capitalize()} is\", len(result))\n"
     ]
    }
   ],
   "source": [
    "report = classification_report(y_test,y_pred)"
   ]
  },
  {
   "cell_type": "code",
   "execution_count": 39,
   "id": "ed126ff4",
   "metadata": {},
   "outputs": [
    {
     "name": "stdout",
     "output_type": "stream",
     "text": [
      "              precision    recall  f1-score   support\n",
      "\n",
      "          No       0.00      0.00      0.00     13199\n",
      "         Yes       0.61      1.00      0.75     20301\n",
      "\n",
      "    accuracy                           0.61     33500\n",
      "   macro avg       0.30      0.50      0.38     33500\n",
      "weighted avg       0.37      0.61      0.46     33500\n",
      "\n"
     ]
    }
   ],
   "source": [
    "print(report)"
   ]
  },
  {
   "cell_type": "code",
   "execution_count": 40,
   "id": "c046b2f8",
   "metadata": {},
   "outputs": [
    {
     "data": {
      "text/plain": [
       "np.float64(0.4998466278955989)"
      ]
     },
     "execution_count": 40,
     "metadata": {},
     "output_type": "execute_result"
    }
   ],
   "source": [
    "y_proba = gb.predict_proba(X_test)[ : , 1] if len(Y.unique())== 2 else None\n",
    "roc_auc_score(y_test , y_proba)"
   ]
  },
  {
   "cell_type": "code",
   "execution_count": 41,
   "id": "a120ee2a",
   "metadata": {},
   "outputs": [
    {
     "data": {
      "image/png": "[encoded data removed]",
      "text/plain": [
       "<Figure size 500x500 with 1 Axes>"
      ]
     },
     "metadata": {},
     "output_type": "display_data"
    }
   ],
   "source": [
    "plt.figure(figsize=(5,5))\n",
    "plt.barh(top_features, gb.feature_importances_, color=\"skyblue\")\n",
    "plt.gca().invert_yaxis()\n",
    "plt.show()\n"
   ]
  },
  {
   "cell_type": "markdown",
   "id": "119064f5",
   "metadata": {},
   "source": [
    "## Testing"
   ]
  },
  {
   "cell_type": "code",
   "execution_count": 42,
   "id": "e4d27dd9",
   "metadata": {},
   "outputs": [
    {
     "data": {
      "text/plain": [
       "Index(['Diabetes', 'Treatment_Type', 'Insurance_Status', 'Cancer_Stage',\n",
       "       'Screening_History'],\n",
       "      dtype='object')"
      ]
     },
     "execution_count": 42,
     "metadata": {},
     "output_type": "execute_result"
    }
   ],
   "source": [
    "X.columns"
   ]
  },
  {
   "cell_type": "code",
   "execution_count": 43,
   "id": "118f8411",
   "metadata": {},
   "outputs": [],
   "source": [
    "test_array = np.array([0,0,0,0,0]).reshape(1,-1)"
   ]
  },
  {
   "cell_type": "code",
   "execution_count": 44,
   "id": "1991dc62",
   "metadata": {},
   "outputs": [
    {
     "data": {
      "text/plain": [
       "array(['Yes'], dtype=object)"
      ]
     },
     "execution_count": 44,
     "metadata": {},
     "output_type": "execute_result"
    }
   ],
   "source": [
    "gb.predict(test_array)"
   ]
  },
  {
   "cell_type": "code",
   "execution_count": null,
   "id": "a16571ff",
   "metadata": {},
   "outputs": [],
   "source": []
  }
 ],
 "metadata": {
  "kernelspec": {
   "display_name": "project",
   "language": "python",
   "name": "python3"
  },
  "language_info": {
   "codemirror_mode": {
    "name": "ipython",
    "version": 3
   },
   "file_extension": ".py",
   "mimetype": "text/x-python",
   "name": "python",
   "nbconvert_exporter": "python",
   "pygments_lexer": "ipython3",
   "version": "3.11.7"
  }
 },
 "nbformat": 4,
 "nbformat_minor": 5
}
